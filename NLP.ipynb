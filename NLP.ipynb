{
 "cells": [
  {
   "cell_type": "markdown",
   "metadata": {},
   "source": [
    "# NLP"
   ]
  },
  {
   "cell_type": "markdown",
   "metadata": {
    "heading_collapsed": true
   },
   "source": [
    "## Logistic Regression BoW classifier"
   ]
  },
  {
   "cell_type": "markdown",
   "metadata": {
    "hidden": true
   },
   "source": [
    "Map sparse BoW representations to log probabilities over labels."
   ]
  },
  {
   "cell_type": "code",
   "execution_count": 1,
   "metadata": {
    "collapsed": true,
    "hidden": true
   },
   "outputs": [],
   "source": [
    "%matplotlib inline\n",
    "import torch\n",
    "import torch.autograd as autograd\n",
    "import torch.nn as nn\n",
    "import torch.nn.functional as F\n",
    "import torch.optim as optim"
   ]
  },
  {
   "cell_type": "markdown",
   "metadata": {
    "hidden": true
   },
   "source": [
    "### Data"
   ]
  },
  {
   "cell_type": "code",
   "execution_count": 2,
   "metadata": {
    "hidden": true
   },
   "outputs": [],
   "source": [
    "data = [(\"me gusta comer en la cafeteria\".split(), \"SPANISH\"),\n",
    "        (\"Give it to me\".split(), \"ENGLISH\"),\n",
    "        (\"No creo que sea una buena idea\".split(), \"SPANISH\"),\n",
    "        (\"No it is not a good idea to get lost at sea\".split(), \"ENGLISH\")]\n",
    "\n",
    "test_data = [(\"Yo creo que si\".split(), \"SPANISH\"),\n",
    "             (\"it is lost on me\".split(), \"ENGLISH\")]"
   ]
  },
  {
   "cell_type": "code",
   "execution_count": 3,
   "metadata": {
    "hidden": true
   },
   "outputs": [],
   "source": [
    "word2idx = {}\n",
    "for sent, _ in data+test_data:\n",
    "    for word in sent:\n",
    "        if word not in word2idx:\n",
    "            word2idx[word] = len(word2idx)"
   ]
  },
  {
   "cell_type": "code",
   "execution_count": 4,
   "metadata": {
    "hidden": true
   },
   "outputs": [],
   "source": [
    "vocab_size = len(word2idx)"
   ]
  },
  {
   "cell_type": "markdown",
   "metadata": {
    "hidden": true
   },
   "source": [
    "### Classifier"
   ]
  },
  {
   "cell_type": "code",
   "execution_count": 5,
   "metadata": {
    "collapsed": true,
    "hidden": true
   },
   "outputs": [],
   "source": [
    "class BoWClassifier(nn.Module):\n",
    "    def __init__(self, num_labels, vocab_size):\n",
    "        super(BoWClassifier, self).__init__()\n",
    "        self.linear = nn.Linear(vocab_size, num_labels)\n",
    "    \n",
    "    def forward(self, bow_vec):\n",
    "        return F.log_softmax(self.linear(bow_vec))"
   ]
  },
  {
   "cell_type": "code",
   "execution_count": 6,
   "metadata": {
    "collapsed": true,
    "hidden": true
   },
   "outputs": [],
   "source": [
    "def make_vector(sentence, word2idx):\n",
    "    vec = torch.zeros(len(word2idx))\n",
    "    for word in sentence:\n",
    "        vec[word2idx[word]] += 1\n",
    "    return vec.view(1, -1)"
   ]
  },
  {
   "cell_type": "code",
   "execution_count": 7,
   "metadata": {
    "collapsed": true,
    "hidden": true
   },
   "outputs": [],
   "source": [
    "def make_target(label, label2idx):\n",
    "    return torch.LongTensor([label2idx[label]])"
   ]
  },
  {
   "cell_type": "code",
   "execution_count": 8,
   "metadata": {
    "collapsed": true,
    "hidden": true
   },
   "outputs": [],
   "source": [
    "model = BoWClassifier(2, vocab_size)"
   ]
  },
  {
   "cell_type": "code",
   "execution_count": 9,
   "metadata": {
    "hidden": true
   },
   "outputs": [
    {
     "name": "stdout",
     "output_type": "stream",
     "text": [
      "Parameter containing:\n",
      "\n",
      "Columns 0 to 9 \n",
      "-0.0854 -0.0685 -0.1575  0.1464  0.0801 -0.0993 -0.1936  0.0904  0.0904 -0.0873\n",
      "-0.0563  0.0899  0.0629 -0.1883 -0.1687 -0.0535  0.1446 -0.0348 -0.0169 -0.0755\n",
      "\n",
      "Columns 10 to 19 \n",
      " 0.0072 -0.0688  0.1950  0.1789 -0.1836  0.0864  0.0192  0.0405  0.0324  0.0224\n",
      " 0.1155 -0.0095  0.1052 -0.1874  0.0439  0.1872 -0.1613  0.1525 -0.1849  0.1848\n",
      "\n",
      "Columns 20 to 25 \n",
      " 0.0056 -0.0590  0.0524  0.0011  0.1112 -0.0003\n",
      " 0.1806  0.0427  0.1119 -0.1890 -0.0354  0.0835\n",
      "[torch.FloatTensor of size 2x26]\n",
      "\n",
      "Parameter containing:\n",
      "-0.0640\n",
      "-0.1933\n",
      "[torch.FloatTensor of size 2]\n",
      "\n"
     ]
    }
   ],
   "source": [
    "for param in model.parameters():\n",
    "    print(param)"
   ]
  },
  {
   "cell_type": "markdown",
   "metadata": {
    "hidden": true
   },
   "source": [
    "### Test"
   ]
  },
  {
   "cell_type": "code",
   "execution_count": 10,
   "metadata": {
    "collapsed": true,
    "hidden": true
   },
   "outputs": [],
   "source": [
    "sample = data[0]\n",
    "bow_vector = make_vector(sample[0], word2idx)"
   ]
  },
  {
   "cell_type": "code",
   "execution_count": 11,
   "metadata": {
    "hidden": true
   },
   "outputs": [
    {
     "data": {
      "text/plain": [
       "Variable containing:\n",
       "-0.5719 -0.8311\n",
       "[torch.FloatTensor of size 1x2]"
      ]
     },
     "execution_count": 11,
     "metadata": {},
     "output_type": "execute_result"
    }
   ],
   "source": [
    "log_probs = model(autograd.Variable(bow_vector)); log_probs"
   ]
  },
  {
   "cell_type": "markdown",
   "metadata": {
    "hidden": true
   },
   "source": [
    "### Run"
   ]
  },
  {
   "cell_type": "code",
   "execution_count": 12,
   "metadata": {
    "collapsed": true,
    "hidden": true
   },
   "outputs": [],
   "source": [
    "label2idx = {'SPANISH': 0, 'ENGLISH': 1}"
   ]
  },
  {
   "cell_type": "markdown",
   "metadata": {
    "hidden": true
   },
   "source": [
    "Run on test data before training -> see before-and-after"
   ]
  },
  {
   "cell_type": "code",
   "execution_count": 13,
   "metadata": {
    "hidden": true
   },
   "outputs": [
    {
     "name": "stdout",
     "output_type": "stream",
     "text": [
      "Variable containing:\n",
      "-0.5550 -0.8534\n",
      "[torch.FloatTensor of size 1x2]\n",
      "\n",
      "Variable containing:\n",
      "-0.5890 -0.8094\n",
      "[torch.FloatTensor of size 1x2]\n",
      "\n"
     ]
    }
   ],
   "source": [
    "for sent, label in test_data:\n",
    "    bow_vec = autograd.Variable(make_vector(sent, word2idx))\n",
    "    log_probs = model(bow_vec)\n",
    "    print(log_probs)"
   ]
  },
  {
   "cell_type": "markdown",
   "metadata": {
    "hidden": true
   },
   "source": [
    "Negative log likelihood loss"
   ]
  },
  {
   "cell_type": "code",
   "execution_count": 14,
   "metadata": {
    "hidden": true
   },
   "outputs": [],
   "source": [
    "loss_fn = nn.NLLLoss()\n",
    "optimizer = optim.SGD(model.parameters(), lr=0.1)"
   ]
  },
  {
   "cell_type": "code",
   "execution_count": 15,
   "metadata": {
    "collapsed": true,
    "hidden": true
   },
   "outputs": [],
   "source": [
    "for epoch in range(100):\n",
    "    for sent, label in data:\n",
    "        model.zero_grad()\n",
    "        \n",
    "        bow_vec = autograd.Variable(make_vector(sent, word2idx))\n",
    "        target = autograd.Variable(make_target(label, label2idx))\n",
    "        \n",
    "        log_probs = model(bow_vec)\n",
    "        \n",
    "        loss = loss_fn(log_probs, target)\n",
    "        loss.backward()\n",
    "        optimizer.step()"
   ]
  },
  {
   "cell_type": "code",
   "execution_count": 16,
   "metadata": {
    "hidden": true
   },
   "outputs": [
    {
     "name": "stdout",
     "output_type": "stream",
     "text": [
      "Variable containing:\n",
      "-0.1083 -2.2765\n",
      "[torch.FloatTensor of size 1x2]\n",
      "\n",
      "Variable containing:\n",
      "-2.5334 -0.0827\n",
      "[torch.FloatTensor of size 1x2]\n",
      "\n"
     ]
    }
   ],
   "source": [
    "for sent, label in test_data:\n",
    "    bow_vec = autograd.Variable(make_vector(sent, word2idx))\n",
    "    log_probs = model(bow_vec)\n",
    "    print(log_probs)"
   ]
  },
  {
   "cell_type": "markdown",
   "metadata": {},
   "source": [
    "## WordEmbeddings"
   ]
  },
  {
   "cell_type": "markdown",
   "metadata": {},
   "source": [
    "### N-Gram Language Model"
   ]
  },
  {
   "cell_type": "markdown",
   "metadata": {},
   "source": [
    "Given a sequence of words `w`, we want to compute:\n",
    "\n",
    "`P(wi|wi−1,wi−2,…,wi−n+1)`"
   ]
  },
  {
   "cell_type": "code",
   "execution_count": 17,
   "metadata": {
    "collapsed": true
   },
   "outputs": [],
   "source": [
    "CONTEXT_SIZE = 2\n",
    "EMBEDDING_DIM = 10"
   ]
  },
  {
   "cell_type": "markdown",
   "metadata": {},
   "source": [
    "Shakespeare Sonnet 2"
   ]
  },
  {
   "cell_type": "code",
   "execution_count": 18,
   "metadata": {
    "collapsed": true
   },
   "outputs": [],
   "source": [
    "test_sentence = \"\"\"When forty winters shall besiege thy brow,\n",
    "And dig deep trenches in thy beauty's field,\n",
    "Thy youth's proud livery so gazed on now,\n",
    "Will be a totter'd weed of small worth held:\n",
    "Then being asked, where all thy beauty lies,\n",
    "Where all the treasure of thy lusty days;\n",
    "To say, within thine own deep sunken eyes,\n",
    "Were an all-eating shame, and thriftless praise.\n",
    "How much more praise deserv'd thy beauty's use,\n",
    "If thou couldst answer 'This fair child of mine\n",
    "Shall sum my count, and make my old excuse,'\n",
    "Proving his beauty by succession thine!\n",
    "This were to be new made when thou art old,\n",
    "And see thy blood warm when thou feel'st it cold.\"\"\".split()"
   ]
  },
  {
   "cell_type": "markdown",
   "metadata": {},
   "source": [
    "Trigram: [context_words, target_word]\n",
    "\n",
    "`([word_i-2, word_i-1], target_word)`"
   ]
  },
  {
   "cell_type": "code",
   "execution_count": 19,
   "metadata": {
    "collapsed": true
   },
   "outputs": [],
   "source": [
    "trigrams = [([test_sentence[i], test_sentence[i+1]], test_sentence[i+2])\n",
    "           for i in range(len(test_sentence) - 2)]"
   ]
  },
  {
   "cell_type": "code",
   "execution_count": 20,
   "metadata": {},
   "outputs": [
    {
     "name": "stdout",
     "output_type": "stream",
     "text": [
      "[(['When', 'forty'], 'winters'), (['forty', 'winters'], 'shall'), (['winters', 'shall'], 'besiege')]\n"
     ]
    }
   ],
   "source": [
    "print(trigrams[:3])"
   ]
  },
  {
   "cell_type": "code",
   "execution_count": 21,
   "metadata": {},
   "outputs": [],
   "source": [
    "vocab = set(test_sentence)\n",
    "word2idx = {word: i for i, word in enumerate(vocab)}"
   ]
  },
  {
   "cell_type": "code",
   "execution_count": 22,
   "metadata": {
    "collapsed": true
   },
   "outputs": [],
   "source": [
    "class NGramModeler(nn.Module):\n",
    "    def __init__(self, vocab_size, emb_dim, context_size):\n",
    "        super(NGramModeler, self).__init__()\n",
    "        self.embeddings = nn.Embedding(vocab_size, emb_dim)\n",
    "        self.linear1 = nn.Linear(context_size * emb_dim, 128)\n",
    "        self.linear2 = nn.Linear(128, vocab_size)\n",
    "    \n",
    "    def forward(self, inputs):\n",
    "        embeds = self.embeddings(inputs).view((1, -1))\n",
    "        out = F.relu(self.linear1(embeds))\n",
    "        out = self.linear2(out)\n",
    "        \n",
    "        log_probs = F.log_softmax(out)\n",
    "        return log_probs"
   ]
  },
  {
   "cell_type": "code",
   "execution_count": 23,
   "metadata": {
    "collapsed": true
   },
   "outputs": [],
   "source": [
    "losses = []\n",
    "loss_fn = nn.NLLLoss()"
   ]
  },
  {
   "cell_type": "code",
   "execution_count": 24,
   "metadata": {},
   "outputs": [],
   "source": [
    "model = NGramModeler(len(vocab), EMBEDDING_DIM, CONTEXT_SIZE)"
   ]
  },
  {
   "cell_type": "code",
   "execution_count": 25,
   "metadata": {
    "collapsed": true
   },
   "outputs": [],
   "source": [
    "optimizer = optim.SGD(model.parameters(), lr=0.001)"
   ]
  },
  {
   "cell_type": "code",
   "execution_count": 26,
   "metadata": {},
   "outputs": [],
   "source": [
    "for epoch in range(10):\n",
    "    total_loss = torch.Tensor([0])\n",
    "    for context, target in trigrams:\n",
    "        model.zero_grad()\n",
    "        \n",
    "        context_idxs = [word2idx[w] for w in context]\n",
    "        context_var = autograd.Variable(torch.LongTensor(context_idxs))\n",
    "        \n",
    "        log_probs = model(context_var)\n",
    "        \n",
    "#         print('target', word2idx[target])\n",
    "        target_var = autograd.Variable(torch.LongTensor([word2idx[target]]))\n",
    "        loss = loss_fn(log_probs, target_var)\n",
    "        \n",
    "        loss.backward()\n",
    "        optimizer.step()\n",
    "        \n",
    "        total_loss += loss.data\n",
    "    \n",
    "    losses.append(total_loss)"
   ]
  },
  {
   "cell_type": "code",
   "execution_count": 27,
   "metadata": {},
   "outputs": [],
   "source": [
    "# print(losses)"
   ]
  },
  {
   "cell_type": "markdown",
   "metadata": {
    "heading_collapsed": true
   },
   "source": [
    "### Continous Bag-of-Words Model"
   ]
  },
  {
   "cell_type": "markdown",
   "metadata": {
    "hidden": true
   },
   "source": [
    "Given a target word $w_i$ and an\n",
    "$N$ context window on each side, \n",
    "\n",
    "$w_{i-1}, \\dots, w_{i-N}$\n",
    "and $w_{i+1}, \\dots, w_{i+N}$, referring to all context words\n",
    "collectively as $C$, CBOW tries to minimize\n",
    "\n",
    "\\begin{align}-\\log p(w_i | C) = -\\log \\text{Softmax}(A(\\sum_{w \\in C} q_w) + b)\\end{align}\n",
    "\n",
    "where $q_w$ is the embedding for word $w$."
   ]
  },
  {
   "cell_type": "code",
   "execution_count": 28,
   "metadata": {
    "collapsed": true,
    "hidden": true
   },
   "outputs": [],
   "source": [
    "CONTEXT_SIZE = 2"
   ]
  },
  {
   "cell_type": "code",
   "execution_count": 29,
   "metadata": {
    "collapsed": true,
    "hidden": true
   },
   "outputs": [],
   "source": [
    "raw_text = \"\"\"We are about to study the idea of a computational process.\n",
    "Computational processes are abstract beings that inhabit computers.\n",
    "As they evolve, processes manipulate other abstract things called data.\n",
    "The evolution of a process is directed by a pattern of rules\n",
    "called a program. People create programs to direct processes. In effect,\n",
    "we conjure the spirits of the computer with our spells.\"\"\".split()"
   ]
  },
  {
   "cell_type": "code",
   "execution_count": 30,
   "metadata": {
    "collapsed": true,
    "hidden": true
   },
   "outputs": [],
   "source": [
    "vocab = set(raw_text)\n",
    "vocab_size = len(vocab)"
   ]
  },
  {
   "cell_type": "code",
   "execution_count": 31,
   "metadata": {
    "hidden": true
   },
   "outputs": [],
   "source": [
    "word2idx = {word: i for i, word in enumerate(vocab)}"
   ]
  },
  {
   "cell_type": "code",
   "execution_count": 32,
   "metadata": {
    "collapsed": true,
    "hidden": true
   },
   "outputs": [],
   "source": [
    "data = []\n",
    "for i in range(CONTEXT_SIZE, len(raw_text) - CONTEXT_SIZE):\n",
    "    context = [raw_text[i-2], raw_text[i-1],\n",
    "               raw_text[i+1], raw_text[i+2]]\n",
    "    target = raw_text[i]\n",
    "    \n",
    "    data.append((context, target))"
   ]
  },
  {
   "cell_type": "code",
   "execution_count": 33,
   "metadata": {
    "hidden": true
   },
   "outputs": [
    {
     "data": {
      "text/plain": [
       "[(['We', 'are', 'to', 'study'], 'about'),\n",
       " (['are', 'about', 'study', 'the'], 'to'),\n",
       " (['about', 'to', 'the', 'idea'], 'study'),\n",
       " (['to', 'study', 'idea', 'of'], 'the'),\n",
       " (['study', 'the', 'of', 'a'], 'idea')]"
      ]
     },
     "execution_count": 33,
     "metadata": {},
     "output_type": "execute_result"
    }
   ],
   "source": [
    "data[:5]"
   ]
  },
  {
   "cell_type": "code",
   "execution_count": 34,
   "metadata": {
    "collapsed": true,
    "hidden": true
   },
   "outputs": [],
   "source": [
    "class CBoW(nn.Module):\n",
    "    def __init__(self, vocab_size, emb_dim, context_size):\n",
    "        super(CBoW, self).__init__()\n",
    "        self.embeddings = nn.Embedding(vocab_size, emb_dim)\n",
    "        self.linear1 = nn.Linear(context_size*2*emb_dim, 128)\n",
    "        self.linear2 = nn.Linear(128, vocab_size)\n",
    "    \n",
    "    def forward(self, inputs):\n",
    "        embeds = self.embeddings(inputs).view((1, -1))\n",
    "        out = F.relu(self.linear1(embeds))\n",
    "        out = self.linear2(out)\n",
    "        \n",
    "        log_probs = F.log_softmax(out)\n",
    "        return log_probs"
   ]
  },
  {
   "cell_type": "code",
   "execution_count": 41,
   "metadata": {
    "collapsed": true,
    "hidden": true
   },
   "outputs": [],
   "source": [
    "def make_context_vector(context, word2idx):\n",
    "    idxs = [word2idx[w] for w in context]\n",
    "    tensor = torch.LongTensor(idxs).cuda()\n",
    "    return autograd.Variable(tensor)"
   ]
  },
  {
   "cell_type": "code",
   "execution_count": 42,
   "metadata": {
    "hidden": true
   },
   "outputs": [],
   "source": [
    "losses = []\n",
    "loss_fn = nn.NLLLoss()"
   ]
  },
  {
   "cell_type": "code",
   "execution_count": 43,
   "metadata": {
    "hidden": true
   },
   "outputs": [
    {
     "data": {
      "text/plain": [
       "CBoW (\n",
       "  (embeddings): Embedding(49, 10)\n",
       "  (linear1): Linear (40 -> 128)\n",
       "  (linear2): Linear (128 -> 49)\n",
       ")"
      ]
     },
     "execution_count": 43,
     "metadata": {},
     "output_type": "execute_result"
    }
   ],
   "source": [
    "model = CBoW(len(vocab), EMBEDDING_DIM, CONTEXT_SIZE)\n",
    "model.cuda()"
   ]
  },
  {
   "cell_type": "code",
   "execution_count": 44,
   "metadata": {
    "collapsed": true,
    "hidden": true
   },
   "outputs": [],
   "source": [
    "optimizer = optim.SGD(model.parameters(), lr=1e-4)"
   ]
  },
  {
   "cell_type": "code",
   "execution_count": 45,
   "metadata": {
    "hidden": true
   },
   "outputs": [],
   "source": [
    "for epoch in range(100):\n",
    "    total_loss = torch.Tensor([0]).cuda()\n",
    "    for context, target in data:\n",
    "        model.zero_grad()\n",
    "        \n",
    "        context_var = make_context_vector(context, word2idx)\n",
    "        \n",
    "        log_probs = model(context_var)\n",
    "        \n",
    "        target_var = autograd.Variable(torch.LongTensor([word2idx[target]]).cuda())\n",
    "        loss = loss_fn(log_probs, target_var)\n",
    "        \n",
    "        loss.backward()\n",
    "        optimizer.step()\n",
    "        \n",
    "        total_loss += loss.data\n",
    "    \n",
    "    losses.append(total_loss)"
   ]
  },
  {
   "cell_type": "code",
   "execution_count": 46,
   "metadata": {
    "collapsed": true,
    "hidden": true
   },
   "outputs": [
    {
     "data": {
      "text/plain": [
       "[\n",
       "  227.1947\n",
       " [torch.cuda.FloatTensor of size 1 (GPU 0)], \n",
       "  227.0444\n",
       " [torch.cuda.FloatTensor of size 1 (GPU 0)], \n",
       "  226.8942\n",
       " [torch.cuda.FloatTensor of size 1 (GPU 0)], \n",
       "  226.7442\n",
       " [torch.cuda.FloatTensor of size 1 (GPU 0)], \n",
       "  226.5942\n",
       " [torch.cuda.FloatTensor of size 1 (GPU 0)], \n",
       "  226.4444\n",
       " [torch.cuda.FloatTensor of size 1 (GPU 0)], \n",
       "  226.2946\n",
       " [torch.cuda.FloatTensor of size 1 (GPU 0)], \n",
       "  226.1451\n",
       " [torch.cuda.FloatTensor of size 1 (GPU 0)], \n",
       "  225.9955\n",
       " [torch.cuda.FloatTensor of size 1 (GPU 0)], \n",
       "  225.8459\n",
       " [torch.cuda.FloatTensor of size 1 (GPU 0)], \n",
       "  225.6965\n",
       " [torch.cuda.FloatTensor of size 1 (GPU 0)], \n",
       "  225.5473\n",
       " [torch.cuda.FloatTensor of size 1 (GPU 0)], \n",
       "  225.3981\n",
       " [torch.cuda.FloatTensor of size 1 (GPU 0)], \n",
       "  225.2491\n",
       " [torch.cuda.FloatTensor of size 1 (GPU 0)], \n",
       "  225.1001\n",
       " [torch.cuda.FloatTensor of size 1 (GPU 0)], \n",
       "  224.9513\n",
       " [torch.cuda.FloatTensor of size 1 (GPU 0)], \n",
       "  224.8026\n",
       " [torch.cuda.FloatTensor of size 1 (GPU 0)], \n",
       "  224.6539\n",
       " [torch.cuda.FloatTensor of size 1 (GPU 0)], \n",
       "  224.5053\n",
       " [torch.cuda.FloatTensor of size 1 (GPU 0)], \n",
       "  224.3569\n",
       " [torch.cuda.FloatTensor of size 1 (GPU 0)], \n",
       "  224.2085\n",
       " [torch.cuda.FloatTensor of size 1 (GPU 0)], \n",
       "  224.0603\n",
       " [torch.cuda.FloatTensor of size 1 (GPU 0)], \n",
       "  223.9120\n",
       " [torch.cuda.FloatTensor of size 1 (GPU 0)], \n",
       "  223.7640\n",
       " [torch.cuda.FloatTensor of size 1 (GPU 0)], \n",
       "  223.6159\n",
       " [torch.cuda.FloatTensor of size 1 (GPU 0)], \n",
       "  223.4680\n",
       " [torch.cuda.FloatTensor of size 1 (GPU 0)], \n",
       "  223.3202\n",
       " [torch.cuda.FloatTensor of size 1 (GPU 0)], \n",
       "  223.1725\n",
       " [torch.cuda.FloatTensor of size 1 (GPU 0)], \n",
       "  223.0248\n",
       " [torch.cuda.FloatTensor of size 1 (GPU 0)], \n",
       "  222.8772\n",
       " [torch.cuda.FloatTensor of size 1 (GPU 0)], \n",
       "  222.7298\n",
       " [torch.cuda.FloatTensor of size 1 (GPU 0)], \n",
       "  222.5825\n",
       " [torch.cuda.FloatTensor of size 1 (GPU 0)], \n",
       "  222.4353\n",
       " [torch.cuda.FloatTensor of size 1 (GPU 0)], \n",
       "  222.2882\n",
       " [torch.cuda.FloatTensor of size 1 (GPU 0)], \n",
       "  222.1410\n",
       " [torch.cuda.FloatTensor of size 1 (GPU 0)], \n",
       "  221.9940\n",
       " [torch.cuda.FloatTensor of size 1 (GPU 0)], \n",
       "  221.8471\n",
       " [torch.cuda.FloatTensor of size 1 (GPU 0)], \n",
       "  221.7004\n",
       " [torch.cuda.FloatTensor of size 1 (GPU 0)], \n",
       "  221.5538\n",
       " [torch.cuda.FloatTensor of size 1 (GPU 0)], \n",
       "  221.4073\n",
       " [torch.cuda.FloatTensor of size 1 (GPU 0)], \n",
       "  221.2609\n",
       " [torch.cuda.FloatTensor of size 1 (GPU 0)], \n",
       "  221.1145\n",
       " [torch.cuda.FloatTensor of size 1 (GPU 0)], \n",
       "  220.9683\n",
       " [torch.cuda.FloatTensor of size 1 (GPU 0)], \n",
       "  220.8219\n",
       " [torch.cuda.FloatTensor of size 1 (GPU 0)], \n",
       "  220.6758\n",
       " [torch.cuda.FloatTensor of size 1 (GPU 0)], \n",
       "  220.5296\n",
       " [torch.cuda.FloatTensor of size 1 (GPU 0)], \n",
       "  220.3835\n",
       " [torch.cuda.FloatTensor of size 1 (GPU 0)], \n",
       "  220.2375\n",
       " [torch.cuda.FloatTensor of size 1 (GPU 0)], \n",
       "  220.0915\n",
       " [torch.cuda.FloatTensor of size 1 (GPU 0)], \n",
       "  219.9457\n",
       " [torch.cuda.FloatTensor of size 1 (GPU 0)], \n",
       "  219.8000\n",
       " [torch.cuda.FloatTensor of size 1 (GPU 0)], \n",
       "  219.6543\n",
       " [torch.cuda.FloatTensor of size 1 (GPU 0)], \n",
       "  219.5087\n",
       " [torch.cuda.FloatTensor of size 1 (GPU 0)], \n",
       "  219.3632\n",
       " [torch.cuda.FloatTensor of size 1 (GPU 0)], \n",
       "  219.2177\n",
       " [torch.cuda.FloatTensor of size 1 (GPU 0)], \n",
       "  219.0723\n",
       " [torch.cuda.FloatTensor of size 1 (GPU 0)], \n",
       "  218.9270\n",
       " [torch.cuda.FloatTensor of size 1 (GPU 0)], \n",
       "  218.7818\n",
       " [torch.cuda.FloatTensor of size 1 (GPU 0)], \n",
       "  218.6366\n",
       " [torch.cuda.FloatTensor of size 1 (GPU 0)], \n",
       "  218.4916\n",
       " [torch.cuda.FloatTensor of size 1 (GPU 0)], \n",
       "  218.3467\n",
       " [torch.cuda.FloatTensor of size 1 (GPU 0)], \n",
       "  218.2018\n",
       " [torch.cuda.FloatTensor of size 1 (GPU 0)], \n",
       "  218.0570\n",
       " [torch.cuda.FloatTensor of size 1 (GPU 0)], \n",
       "  217.9122\n",
       " [torch.cuda.FloatTensor of size 1 (GPU 0)], \n",
       "  217.7675\n",
       " [torch.cuda.FloatTensor of size 1 (GPU 0)], \n",
       "  217.6229\n",
       " [torch.cuda.FloatTensor of size 1 (GPU 0)], \n",
       "  217.4783\n",
       " [torch.cuda.FloatTensor of size 1 (GPU 0)], \n",
       "  217.3338\n",
       " [torch.cuda.FloatTensor of size 1 (GPU 0)], \n",
       "  217.1894\n",
       " [torch.cuda.FloatTensor of size 1 (GPU 0)], \n",
       "  217.0450\n",
       " [torch.cuda.FloatTensor of size 1 (GPU 0)], \n",
       "  216.9006\n",
       " [torch.cuda.FloatTensor of size 1 (GPU 0)], \n",
       "  216.7563\n",
       " [torch.cuda.FloatTensor of size 1 (GPU 0)], \n",
       "  216.6122\n",
       " [torch.cuda.FloatTensor of size 1 (GPU 0)], \n",
       "  216.4679\n",
       " [torch.cuda.FloatTensor of size 1 (GPU 0)], \n",
       "  216.3239\n",
       " [torch.cuda.FloatTensor of size 1 (GPU 0)], \n",
       "  216.1799\n",
       " [torch.cuda.FloatTensor of size 1 (GPU 0)], \n",
       "  216.0359\n",
       " [torch.cuda.FloatTensor of size 1 (GPU 0)], \n",
       "  215.8920\n",
       " [torch.cuda.FloatTensor of size 1 (GPU 0)], \n",
       "  215.7482\n",
       " [torch.cuda.FloatTensor of size 1 (GPU 0)], \n",
       "  215.6044\n",
       " [torch.cuda.FloatTensor of size 1 (GPU 0)], \n",
       "  215.4608\n",
       " [torch.cuda.FloatTensor of size 1 (GPU 0)], \n",
       "  215.3172\n",
       " [torch.cuda.FloatTensor of size 1 (GPU 0)], \n",
       "  215.1738\n",
       " [torch.cuda.FloatTensor of size 1 (GPU 0)], \n",
       "  215.0303\n",
       " [torch.cuda.FloatTensor of size 1 (GPU 0)], \n",
       "  214.8869\n",
       " [torch.cuda.FloatTensor of size 1 (GPU 0)], \n",
       "  214.7436\n",
       " [torch.cuda.FloatTensor of size 1 (GPU 0)], \n",
       "  214.6003\n",
       " [torch.cuda.FloatTensor of size 1 (GPU 0)], \n",
       "  214.4571\n",
       " [torch.cuda.FloatTensor of size 1 (GPU 0)], \n",
       "  214.3139\n",
       " [torch.cuda.FloatTensor of size 1 (GPU 0)], \n",
       "  214.1708\n",
       " [torch.cuda.FloatTensor of size 1 (GPU 0)], \n",
       "  214.0277\n",
       " [torch.cuda.FloatTensor of size 1 (GPU 0)], \n",
       "  213.8846\n",
       " [torch.cuda.FloatTensor of size 1 (GPU 0)], \n",
       "  213.7417\n",
       " [torch.cuda.FloatTensor of size 1 (GPU 0)], \n",
       "  213.5989\n",
       " [torch.cuda.FloatTensor of size 1 (GPU 0)], \n",
       "  213.4561\n",
       " [torch.cuda.FloatTensor of size 1 (GPU 0)], \n",
       "  213.3134\n",
       " [torch.cuda.FloatTensor of size 1 (GPU 0)], \n",
       "  213.1706\n",
       " [torch.cuda.FloatTensor of size 1 (GPU 0)], \n",
       "  213.0281\n",
       " [torch.cuda.FloatTensor of size 1 (GPU 0)], \n",
       "  212.8855\n",
       " [torch.cuda.FloatTensor of size 1 (GPU 0)], \n",
       "  212.7430\n",
       " [torch.cuda.FloatTensor of size 1 (GPU 0)]]"
      ]
     },
     "execution_count": 46,
     "metadata": {},
     "output_type": "execute_result"
    }
   ],
   "source": [
    "losses"
   ]
  },
  {
   "cell_type": "markdown",
   "metadata": {},
   "source": [
    "## Sequence Models and LSTM"
   ]
  },
  {
   "cell_type": "markdown",
   "metadata": {},
   "source": [
    "### LSTM Example"
   ]
  },
  {
   "cell_type": "code",
   "execution_count": 51,
   "metadata": {},
   "outputs": [
    {
     "data": {
      "text/plain": [
       "<torch._C.Generator at 0x7f9077762600>"
      ]
     },
     "execution_count": 51,
     "metadata": {},
     "output_type": "execute_result"
    }
   ],
   "source": [
    "torch.manual_seed(1)"
   ]
  },
  {
   "cell_type": "code",
   "execution_count": 63,
   "metadata": {
    "collapsed": true
   },
   "outputs": [
    {
     "data": {
      "text/plain": [
       "[Variable containing:\n",
       " -1.6000 -0.6771 -0.9848\n",
       " [torch.FloatTensor of size 1x3], Variable containing:\n",
       "  1.8307  2.3463  0.0054\n",
       " [torch.FloatTensor of size 1x3], Variable containing:\n",
       " -0.5591  0.0550  0.3098\n",
       " [torch.FloatTensor of size 1x3], Variable containing:\n",
       " -2.1258 -0.2598  0.3487\n",
       " [torch.FloatTensor of size 1x3], Variable containing:\n",
       " -1.5464  0.8535  0.1206\n",
       " [torch.FloatTensor of size 1x3]]"
      ]
     },
     "execution_count": 63,
     "metadata": {},
     "output_type": "execute_result"
    }
   ],
   "source": [
    "lstm = nn.LSTM(3, 3)\n",
    "inputs = [autograd.Variable(torch.randn((1,3))) for _ in range(5)]; inputs"
   ]
  },
  {
   "cell_type": "markdown",
   "metadata": {},
   "source": [
    "Step through the sequence one element at a time"
   ]
  },
  {
   "cell_type": "code",
   "execution_count": 66,
   "metadata": {
    "collapsed": true
   },
   "outputs": [
    {
     "data": {
      "text/plain": [
       "(Variable containing:\n",
       " (0 ,.,.) = \n",
       "  -0.2146  0.0554  0.1427\n",
       " [torch.FloatTensor of size 1x1x3], Variable containing:\n",
       " (0 ,.,.) = \n",
       "  -0.5155  0.1003  0.2526\n",
       " [torch.FloatTensor of size 1x1x3])"
      ]
     },
     "execution_count": 66,
     "metadata": {},
     "output_type": "execute_result"
    }
   ],
   "source": [
    "# initialize hidden state\n",
    "hidden = (autograd.Variable(torch.randn(1,1,3)),\n",
    "          autograd.Variable(torch.randn((1,1,3))))\n",
    "for i in inputs:\n",
    "    out, hidden = lstm(i.view(1,1,-1), hidden)\n",
    "hidden"
   ]
  },
  {
   "cell_type": "markdown",
   "metadata": {},
   "source": [
    "Do entire sequence at once"
   ]
  },
  {
   "cell_type": "code",
   "execution_count": 67,
   "metadata": {
    "collapsed": true
   },
   "outputs": [
    {
     "data": {
      "text/plain": [
       "Variable containing:\n",
       "(0 ,.,.) = \n",
       " -1.6000 -0.6771 -0.9848\n",
       "\n",
       "(1 ,.,.) = \n",
       "  1.8307  2.3463  0.0054\n",
       "\n",
       "(2 ,.,.) = \n",
       " -0.5591  0.0550  0.3098\n",
       "\n",
       "(3 ,.,.) = \n",
       " -2.1258 -0.2598  0.3487\n",
       "\n",
       "(4 ,.,.) = \n",
       " -1.5464  0.8535  0.1206\n",
       "[torch.FloatTensor of size 5x1x3]"
      ]
     },
     "execution_count": 67,
     "metadata": {},
     "output_type": "execute_result"
    }
   ],
   "source": [
    "inputs = torch.cat(inputs).view(len(inputs), 1, -1); inputs"
   ]
  },
  {
   "cell_type": "code",
   "execution_count": 68,
   "metadata": {
    "collapsed": true
   },
   "outputs": [
    {
     "name": "stdout",
     "output_type": "stream",
     "text": [
      "Variable containing:\n",
      "(0 ,.,.) = \n",
      " -0.6347 -0.0698 -0.2026\n",
      "\n",
      "(1 ,.,.) = \n",
      " -0.3732 -0.2269  0.0138\n",
      "\n",
      "(2 ,.,.) = \n",
      " -0.5078 -0.1984  0.0181\n",
      "\n",
      "(3 ,.,.) = \n",
      " -0.4325 -0.0129  0.0019\n",
      "\n",
      "(4 ,.,.) = \n",
      " -0.2835  0.0734  0.1115\n",
      "[torch.FloatTensor of size 5x1x3]\n",
      "\n",
      "(Variable containing:\n",
      "(0 ,.,.) = \n",
      " -0.2835  0.0734  0.1115\n",
      "[torch.FloatTensor of size 1x1x3]\n",
      ", Variable containing:\n",
      "(0 ,.,.) = \n",
      " -0.7164  0.1307  0.1921\n",
      "[torch.FloatTensor of size 1x1x3]\n",
      ")\n"
     ]
    }
   ],
   "source": [
    "hidden = (autograd.Variable(torch.randn(1,1,3)),\n",
    "          autograd.Variable(torch.randn((1,1,3))))\n",
    "out, hidden = lstm(inputs, hidden)\n",
    "print(out)\n",
    "print(hidden)"
   ]
  },
  {
   "cell_type": "markdown",
   "metadata": {},
   "source": [
    "### LSTM Part-of-Speech Tagging"
   ]
  },
  {
   "cell_type": "markdown",
   "metadata": {},
   "source": [
    "Let our input sentence be\n",
    "$w_1, \\dots, w_M$, where $w_i \\in V$, our vocab. \n",
    "\n",
    "Also, let\n",
    "$T$ be our tag set, and $y_i$ the tag of word $w_i$.\n",
    "Denote our prediction of the tag of word $w_i$ by\n",
    "$\\hat{y}_i$.\n",
    "\n",
    "This is a structure prediction, model, where our output is a sequence\n",
    "$\\hat{y}_1, \\dots, \\hat{y}_M$, where $\\hat{y}_i \\in T$.\n",
    "\n",
    "To do the prediction, pass an LSTM over the sentence. Denote the hidden\n",
    "state at timestep $i$ as $h_i$. Also, assign each tag a\n",
    "unique index. Then our prediction rule for $\\hat{y}_i$ is\n",
    "\n",
    "\\begin{align}\\hat{y}_i = \\text{argmax}_j \\  (\\log \\text{Softmax}(Ah_i + b))_j\\end{align}\n",
    "\n",
    "That is, take the log softmax of the affine map of the hidden state,\n",
    "and the predicted tag is the tag that has the maximum value in this\n",
    "vector. Note this implies immediately that the dimensionality of the\n",
    "target space of $A$ is $|T|$.\n"
   ]
  },
  {
   "cell_type": "code",
   "execution_count": 69,
   "metadata": {
    "collapsed": true
   },
   "outputs": [],
   "source": [
    "def prepare_sequence(seq, word2idx):\n",
    "    idxs = [word2idx[w] for w in seq]\n",
    "    tensor = torch.LongTensor(idxs)\n",
    "    return autograd.Variable(tensor)"
   ]
  },
  {
   "cell_type": "code",
   "execution_count": 70,
   "metadata": {
    "collapsed": true
   },
   "outputs": [],
   "source": [
    "training_data = [\n",
    "    (\"The dog ate the apple\".split(), [\"DET\", \"NN\", \"V\", \"DET\", \"NN\"]),\n",
    "    (\"Everybody read that book\".split(), [\"NN\", \"V\", \"DET\", \"NN\"])\n",
    "]"
   ]
  },
  {
   "cell_type": "code",
   "execution_count": 75,
   "metadata": {},
   "outputs": [],
   "source": [
    "word2idx = {}\n",
    "for sent, tag in training_data:\n",
    "    for word in sent:\n",
    "        if word not in word2idx:\n",
    "            word2idx[word] = len(word2idx)"
   ]
  },
  {
   "cell_type": "code",
   "execution_count": 76,
   "metadata": {
    "collapsed": true
   },
   "outputs": [],
   "source": [
    "tag2idx = {'DET': 0, 'NN': 1, 'V': 2}"
   ]
  },
  {
   "cell_type": "code",
   "execution_count": 77,
   "metadata": {
    "collapsed": true
   },
   "outputs": [],
   "source": [
    "EMBEDDING_DIM = 6\n",
    "HIDDEN_DIM = 6"
   ]
  },
  {
   "cell_type": "code",
   "execution_count": 78,
   "metadata": {
    "collapsed": true
   },
   "outputs": [],
   "source": [
    "class LSTMTagger(nn.Module):\n",
    "    def __init__(self, emb_dim, hid_dim, vocab_size, target_size):\n",
    "        super(LSTMTagger, self).__init__()\n",
    "        self.hid_dim = hid_dim\n",
    "        self.word_emb = nn.Embedding(vocab_size, emb_dim)\n",
    "        self.lstm = nn.LSTM(emb_dim, hid_dim)\n",
    "        # linear layer that maps from hidden state to tag space\n",
    "        self.hidden2tag = nn.Linear(hid_dim, target_size)\n",
    "        self.hidden = self.init_hidden()\n",
    "        \n",
    "    def init_hidden(self):\n",
    "        # (num_layers, minibatch_size, hidden_dim)\n",
    "        return (autograd.Variable(torch.zeros(1,1,self.hid_dim)),\n",
    "                autograd.Variable(torch.zeros(1,1,self.hid_dim)))\n",
    "    \n",
    "    def forward(self, sentence):\n",
    "        embeds = self.word_emb(sentence)\n",
    "        lstm_out, self.hidden = self.lstm(\n",
    "            embeds.view(len(sentence), 1, -1), self.hidden)\n",
    "        tag_space = self.hidden2tag(lstm_out.view(len(sentence), -1))\n",
    "        tag_scores = F.log_softmax(tag_space)\n",
    "        return tag_scores"
   ]
  },
  {
   "cell_type": "code",
   "execution_count": 79,
   "metadata": {
    "collapsed": true
   },
   "outputs": [],
   "source": [
    "model = LSTMTagger(EMBEDDING_DIM, HIDDEN_DIM, len(word2idx), len(tag2idx))"
   ]
  },
  {
   "cell_type": "code",
   "execution_count": 80,
   "metadata": {
    "collapsed": true
   },
   "outputs": [],
   "source": [
    "loss_fn = nn.NLLLoss()\n",
    "optimizer = optim.SGD(model.parameters(), lr=0.1)"
   ]
  },
  {
   "cell_type": "markdown",
   "metadata": {},
   "source": [
    "See what scores are before training"
   ]
  },
  {
   "cell_type": "code",
   "execution_count": 81,
   "metadata": {},
   "outputs": [
    {
     "data": {
      "text/plain": [
       "Variable containing:\n",
       "-0.8221 -1.3920 -1.1651\n",
       "-0.8030 -1.4162 -1.1731\n",
       "-0.8267 -1.4007 -1.1518\n",
       "-0.8091 -1.4459 -1.1418\n",
       "-0.8324 -1.4931 -1.0779\n",
       "[torch.FloatTensor of size 5x3]"
      ]
     },
     "execution_count": 81,
     "metadata": {},
     "output_type": "execute_result"
    }
   ],
   "source": [
    "test_sentence = prepare_sequence(training_data[0][0], word2idx)\n",
    "tag_scores = model(test_sentence); tag_scores"
   ]
  },
  {
   "cell_type": "code",
   "execution_count": 83,
   "metadata": {},
   "outputs": [],
   "source": [
    "for epoch in range(300):\n",
    "    for sentence, tags in training_data:\n",
    "        model.zero_grad()\n",
    "        \n",
    "        # clear out hidden state\n",
    "        model.hidden = model.init_hidden()\n",
    "        \n",
    "        sentence_in = prepare_sequence(sentence, word2idx)\n",
    "        targets = prepare_sequence(tags, tag2idx)\n",
    "        \n",
    "        tag_scores = model(sentence_in)\n",
    "        \n",
    "        loss = loss_fn(tag_scores, targets)\n",
    "        loss.backward()\n",
    "        optimizer.step()"
   ]
  },
  {
   "cell_type": "code",
   "execution_count": 84,
   "metadata": {},
   "outputs": [
    {
     "data": {
      "text/plain": [
       "Variable containing:\n",
       "-0.0612 -2.9190 -5.2243\n",
       "-3.8456 -0.0394 -4.0574\n",
       "-2.3511 -2.7228 -0.1755\n",
       "-0.0646 -3.3599 -3.5818\n",
       "-3.9519 -0.0205 -6.8684\n",
       "[torch.FloatTensor of size 5x3]"
      ]
     },
     "execution_count": 84,
     "metadata": {},
     "output_type": "execute_result"
    }
   ],
   "source": [
    "tag_scores = model(test_sentence); tag_scores"
   ]
  },
  {
   "cell_type": "code",
   "execution_count": null,
   "metadata": {
    "collapsed": true
   },
   "outputs": [],
   "source": []
  },
  {
   "cell_type": "code",
   "execution_count": null,
   "metadata": {
    "collapsed": true
   },
   "outputs": [],
   "source": []
  }
 ],
 "metadata": {
  "kernelspec": {
   "display_name": "Python 3",
   "language": "python",
   "name": "python3"
  },
  "language_info": {
   "codemirror_mode": {
    "name": "ipython",
    "version": 3
   },
   "file_extension": ".py",
   "mimetype": "text/x-python",
   "name": "python",
   "nbconvert_exporter": "python",
   "pygments_lexer": "ipython3",
   "version": "3.6.1"
  }
 },
 "nbformat": 4,
 "nbformat_minor": 2
}
